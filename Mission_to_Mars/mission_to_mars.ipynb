{
 "metadata": {
  "language_info": {
   "codemirror_mode": {
    "name": "ipython",
    "version": 3
   },
   "file_extension": ".py",
   "mimetype": "text/x-python",
   "name": "python",
   "nbconvert_exporter": "python",
   "pygments_lexer": "ipython3",
   "version": "3.6.10-final"
  },
  "orig_nbformat": 2,
  "kernelspec": {
   "name": "python3",
   "display_name": "Python 3.6.10 64-bit ('PythonData': conda)",
   "metadata": {
    "interpreter": {
     "hash": "e7fc2354c13015bdfad1755b4a48a3eeb5cb703f1c2bff07599d6953b8d3ca77"
    }
   }
  }
 },
 "nbformat": 4,
 "nbformat_minor": 2,
 "cells": [
  {
   "cell_type": "code",
   "execution_count": 1,
   "metadata": {},
   "outputs": [
    {
     "output_type": "stream",
     "name": "stdout",
     "text": [
      "Requirement already satisfied: flask_pymongo in /Users/annabelcheong/opt/anaconda3/envs/PythonData/lib/python3.6/site-packages (2.3.0)\n",
      "Requirement already satisfied: Flask>=0.11 in /Users/annabelcheong/opt/anaconda3/envs/PythonData/lib/python3.6/site-packages (from flask_pymongo) (1.1.2)\n",
      "Requirement already satisfied: PyMongo>=3.3 in /Users/annabelcheong/opt/anaconda3/envs/PythonData/lib/python3.6/site-packages (from flask_pymongo) (3.9.0)\n",
      "Requirement already satisfied: Jinja2>=2.10.1 in /Users/annabelcheong/opt/anaconda3/envs/PythonData/lib/python3.6/site-packages (from Flask>=0.11->flask_pymongo) (2.11.2)\n",
      "Requirement already satisfied: click>=5.1 in /Users/annabelcheong/opt/anaconda3/envs/PythonData/lib/python3.6/site-packages (from Flask>=0.11->flask_pymongo) (7.1.2)\n",
      "Requirement already satisfied: Werkzeug>=0.15 in /Users/annabelcheong/opt/anaconda3/envs/PythonData/lib/python3.6/site-packages (from Flask>=0.11->flask_pymongo) (1.0.1)\n",
      "Requirement already satisfied: itsdangerous>=0.24 in /Users/annabelcheong/opt/anaconda3/envs/PythonData/lib/python3.6/site-packages (from Flask>=0.11->flask_pymongo) (1.1.0)\n",
      "Requirement already satisfied: MarkupSafe>=0.23 in /Users/annabelcheong/opt/anaconda3/envs/PythonData/lib/python3.6/site-packages (from Jinja2>=2.10.1->Flask>=0.11->flask_pymongo) (1.1.1)\n"
     ]
    }
   ],
   "source": [
    "!pip install flask_pymongo"
   ]
  },
  {
   "cell_type": "code",
   "execution_count": 2,
   "metadata": {},
   "outputs": [
    {
     "output_type": "stream",
     "name": "stdout",
     "text": [
      "Requirement already satisfied: PyMongo in /Users/annabelcheong/opt/anaconda3/envs/PythonData/lib/python3.6/site-packages (3.9.0)\n"
     ]
    }
   ],
   "source": [
    "!pip install PyMongo"
   ]
  },
  {
   "cell_type": "code",
   "execution_count": 3,
   "metadata": {},
   "outputs": [],
   "source": [
    "# Dependencies\n",
    "from bs4 import BeautifulSoup as bs\n",
    "import requests\n",
    "from splinter import Browser\n",
    "import time\n",
    "import pandas as pd"
   ]
  },
  {
   "cell_type": "code",
   "execution_count": 4,
   "metadata": {},
   "outputs": [
    {
     "output_type": "stream",
     "name": "stderr",
     "text": [
      "[WDM] - ====== WebDriver manager ======\n",
      "\n",
      "\n",
      "[WDM] - Current google-chrome version is 89.0.4389\n",
      "[WDM] - Get LATEST driver version for 89.0.4389\n",
      "[WDM] - Get LATEST driver version for 89.0.4389\n",
      "[WDM] - Trying to download new driver from https://chromedriver.storage.googleapis.com/89.0.4389.23/chromedriver_mac64.zip\n",
      "[WDM] - Driver has been saved in cache [/Users/annabelcheong/.wdm/drivers/chromedriver/mac64/89.0.4389.23]\n"
     ]
    }
   ],
   "source": [
    "from webdriver_manager.chrome import ChromeDriverManager\n",
    "executable_path = {'executable_path': ChromeDriverManager().install()}\n",
    "browser = Browser('chrome', **executable_path, headless=True)\n",
    "\n"
   ]
  },
  {
   "source": [
    "NASA Mars News\n",
    "\n",
    "- Scrape\n",
    "    - News Title\n",
    "    - Paragraph Text"
   ],
   "cell_type": "markdown",
   "metadata": {}
  },
  {
   "cell_type": "code",
   "execution_count": 5,
   "metadata": {},
   "outputs": [],
   "source": [
    "# Create BeautifulSoup object; parse with 'html.parser'\n",
    "# soup = bs(response.text, 'html.parser')\n",
    "# URL of page to be scraped\n",
    "url = 'https://mars.nasa.gov/news/'\n",
    "browser.visit(url)\n",
    "\n",
    "html = browser.html\n",
    "soup = bs(html, 'html.parser')"
   ]
  },
  {
   "cell_type": "code",
   "execution_count": 6,
   "metadata": {},
   "outputs": [
    {
     "output_type": "stream",
     "name": "stdout",
     "text": [
      "Mars Now\nThe first trek of the agency’s largest, most advanced rover yet on the Red Planet marks a major milestone before science operations get under way.\n"
     ]
    }
   ],
   "source": [
    "news_title = soup.find('div', class_='content_title').text\n",
    "print(news_title)\n",
    "\n",
    "news_p = soup.find('div', class_='article_teaser_body').text\n",
    "print(news_p)\n",
    "\n",
    "#Another option to scrape the paragraph\n",
    "# news = soup.find('div', class_='list_text').\\\n",
    "#     find('div', class_='article_teaser_body').text\n",
    "# print(news)\n"
   ]
  },
  {
   "cell_type": "code",
   "execution_count": 7,
   "metadata": {},
   "outputs": [
    {
     "output_type": "stream",
     "name": "stdout",
     "text": [
      "NASA's Perseverance Drives on Mars' Terrain for First Time\nThe first trek of the agency’s largest, most advanced rover yet on the Red Planet marks a major milestone before science operations get under way.\n-------------\nMedia Telecon Materials - March 5, 2021\nMission team members are participating in a virtual teleconference to discuss milestones achieved so far since the Feb. 18 landing and those to come.\n-------------\nNASA Awards Mars Ascent Propulsion System Contract for Sample Return\nThe award moves NASA and ESA a step closer to realizing Mars Sample Return, an ambitious planetary exploration program that will build upon decades of science, knowledge, and experience.\n-------------\nNASA to Provide Update on Perseverance ‘Firsts' Since Mars Landing \nMission team members are participating in a virtual teleconference to discuss milestones achieved so far since the Feb. 18 landing and those to come.\n-------------\nTesting Proves Its Worth With Successful Mars Parachute Deployment\nThe giant canopy that helped land Perseverance on Mars was tested here on Earth at NASA’s Wallops Flight Facility in Virginia.\n-------------\nNASA's Perseverance Rover Gives High-Definition Panoramic View of Landing Site\nA 360-degree panorama taken by the rover’s Mastcam-Z instrument will be discussed during a public video chat this Thursday.\n-------------\nNearly 11 Million Names of Earthlings are on Mars Perseverance\nWhen the Perseverance rover safely touched down on the Martian surface, inside Jezero Crater, on Feb. 18, 2021, it was also a safe landing for the nearly 11 million names on board.\n-------------\nNASA's Mars Perseverance Rover Provides Front-Row Seat to Landing, First Audio Recording of Red Planet \nThe agency’s newest rover captured first-of-its kind footage of its Feb. 18 touchdown and has recorded audio of Martian wind.\n\n\n-------------\nNASA to Reveal New Video, Images From Mars Perseverance Rover\nFirst-of-its kind footage from the agency’s newest rover will be presented during a briefing this morning.\n-------------\nNASA's Mars Helicopter Reports In \nThe technology demonstration has phoned home from where it is attached to the belly of NASA’s Perseverance rover. \n-------------\nNASA's Perseverance Rover Sends Sneak Peek of Mars Landing\nThe six-wheeled robot’s latest data since touching down yesterday include a hi-res image captured as the rover’s jetpack lowered it to the ground.\n-------------\nTouchdown! NASA's Mars Perseverance Rover Safely Lands on Red Planet\nThe agency’s latest and most complex mission to the Red Planet has touched down at Jezero Crater. Now it’s time to begin testing the health of the rover.  \n-------------\nSearching for Life in NASA's Perseverance Mars Samples\nWhen the agency’s newest rover mission searches for fossilized microscopic life on the Red Planet, how will scientists know whether they’ve found it?\n-------------\nThe Mars Relay Network Connects Us to NASA's Martian Explorers\nA tightly choreographed dance between NASA’s Deep Space Network and Mars orbiters will keep the agency’s Perseverance in touch with Earth during landing and beyond.\n-------------\nNASA's Next Mars Rover Is Ready for the Most Precise Landing Yet\nWhat to expect when the Mars 2020 Perseverance rover arrives at the Red Planet on Feb. 18, 2021.\n-------------\nSensors Prepare to Collect Data as Perseverance Enters Mars' Atmosphere\nTechnology will collect critical data about the harsh entry environment during Perseverance’s entry next Thursday.\n-------------\nInSight Is Meeting the Challenge of Winter on Dusty Mars\nAs dust collects on the solar panels and winter comes to Elysium Planitia, the team is following a plan to reduce science operations in order to keep the lander safe.\n-------------\nNASA Invites Public to Share Thrill of Mars Perseverance Rover Landing\nMark your calendars for live landing commentary, news briefings, livestreamed Q&As, virtual watch parties, student activities, and more.\n-------------\nTricky Terrain: Helping to Assure a Safe Rover Landing\nHow two new technologies will help Perseverance, NASA’s most sophisticated rover yet, touch down onto the surface of Mars this month.\n-------------\nWhere Should Future Astronauts Land on Mars? Follow the Water\nA new NASA paper provides the most detailed map to date of near-surface water ice on the Red Planet.\n-------------\nNASA's Perseverance Pays Off Back Home\nEven as the Perseverance rover approaches Mars, technology on board is paying off on Earth.\n-------------\nCould the Surface of Phobos Reveal Secrets of the Martian Past?\nThe Martian moon Phobos orbits through a stream of charged atoms and molecules that flow off the Red Planet’s atmosphere, new research shows.\n-------------\nNASA's MAVEN Continues to Advance Mars Science and Telecommunications Relay Efforts\nWith a suite of new national and international spacecraft primed to explore the Red Planet after their arrival next month, NASA’s MAVEN mission is ready to provide support and continue its study of the Martian atmosphere.\n-------------\nNASA's Perseverance Rover 22 Days From Mars Landing\nSeven minutes of harrowing descent to the Red Planet is in the not-so-distant future for the agency’s Mars 2020 mission.  \n-------------\n6 Things to Know About NASA's Mars Helicopter on Its Way to Mars\nIngenuity, a technology experiment, is preparing to attempt the first powered, controlled flight on the Red Planet.\n-------------\nNASA to Host Virtual Briefing on February Perseverance Mars Rover Landing\nNASA leadership and members of the mission will discuss the agency’s latest rover, which touches down on the Red Planet on Feb. 18.\n-------------\nNASA InSight's ‘Mole' Ends Its Journey on Mars\nThe heat probe hasn’t been able to gain the friction it needs to dig, but the mission has been granted an extension to carry on with its other science.\n-------------\nMars 2020 Perseverance Rover to Capture Sounds From the Red Planet\nAudio gathered by the mission may not sound quite the same on Mars as it would to our ears on Earth. A new interactive online experience lets you sample the difference.\n-------------\nNASA's Curiosity Rover Reaches Its 3,000th Day on Mars\nAs the rover has continued to ascend Mount Sharp, it’s found distinctive benchlike rock formations.\n-------------\nCelebrate the Perseverance Rover Landing With NASA's Student Challenge\nThe rover touches down on the Red Planet next month, and students are invited to join the excitement by designing, building, and landing their own Mars mission. NASA can help.\n-------------\nNASA Extends Exploration for Two Planetary Science Missions\nThe missions – Juno and InSight – have each increased our understanding of our solar system, as well as spurred new sets of diverse questions.\n-------------\n7 Things to Know About the NASA Rover About to Land on Mars\nThe Mars 2020 Perseverance rover, which has started its approach to the Red Planet, will help answer the next logical question in Mars exploration.\n-------------\nA Martian Roundtrip: NASA's Perseverance Rover Sample Tubes\nMarvels of engineering, the rover's sample tubes must be tough enough to safely bring Red Planet samples on the long journey back to Earth in immaculate condition. \n-------------\nNASA Moves Forward With Campaign to Return Mars Samples to Earth\nDuring this next phase, the program will mature critical technologies and make critical design decisions as well as assess industry partnerships.\n-------------\n3 Things We've Learned From NASA's Mars InSight \nScientists are finding new mysteries since the geophysics mission landed two years ago.\n-------------\nFrom JPL's Mailroom to Mars and Beyond\nBill Allen has thrived as the mechanical systems design lead for three Mars rover missions, but he got his start as a teenager sorting letters for the NASA center.\n-------------\n5 Hidden Gems Are Riding Aboard NASA's Perseverance Rover\nThe symbols, mottos, and small objects added to the agency's newest Mars rover serve a variety of purposes, from functional to decorative.\n-------------\nMOXIE Could Help Future Rockets Launch Off Mars\nNASA's Perseverance rover carries a device to convert Martian air into oxygen that, if produced on a larger scale, could be used not just for breathing, but also for fuel.\n-------------\nHear Audio From NASA's Perseverance As It Travels Through Deep Space\nThe first to be rigged with microphones, the agency's latest Mars rover picked up the subtle sounds of its own inner workings during interplanetary flight.\n-------------\nMars Is Getting a New Robotic Meteorologist\nSensors on NASA's Perseverance will help prepare for future human exploration by taking weather measurements and studying dust particles.\n-------------\n"
     ]
    }
   ],
   "source": [
    "## ADDITIONAL TO HW ##\n",
    "# Testing - doing it another way to find all headings and titles\n",
    "\n",
    "results = soup.find_all('div', class_='list_text')\n",
    "\n",
    "for result in results:\n",
    "    title = result.find('div', class_='content_title').text\n",
    "    print(title)\n",
    "\n",
    "    para = result.find('div', class_='article_teaser_body').text\n",
    "    print(para)\n",
    "\n",
    "    print(\"-------------\")"
   ]
  },
  {
   "source": [
    "JPL Mars Space Images - Featured Image"
   ],
   "cell_type": "markdown",
   "metadata": {}
  },
  {
   "cell_type": "code",
   "execution_count": 8,
   "metadata": {},
   "outputs": [],
   "source": [
    "  # Using splinter and retrieving content from url\n",
    "    url = \"https://data-class-jpl-space.s3.amazonaws.com/JPL_Space/index.html\"\n",
    "    browser.visit(url)\n",
    "\n",
    "    time.sleep(1)\n",
    "\n",
    "    # Scrape page into Soup\n",
    "    html = browser.html\n",
    "    soup = bs(html, \"html.parser\")\n"
   ]
  },
  {
   "cell_type": "code",
   "execution_count": 9,
   "metadata": {},
   "outputs": [
    {
     "output_type": "stream",
     "name": "stdout",
     "text": [
      "image/featured/mars3.jpg\nhttps://data-class-jpl-space.s3.amazonaws.com/JPL_Space/image/featured/mars3.jpg\n"
     ]
    }
   ],
   "source": [
    "# Attain full url for the image (via inspect on a chrome browser)\n",
    "# image_url: url_home + relative_image_path\n",
    "\n",
    "# url_home\n",
    "url = 'https://data-class-jpl-space.s3.amazonaws.com/JPL_Space/'\n",
    "\n",
    "# relative_image_path\n",
    "relative_image_path = soup.find('img',class_='headerimage')[\"src\"]\n",
    "print(relative_image_path)\n",
    "\n",
    "featured_image_url = url + relative_image_path\n",
    "print(featured_image_url)"
   ]
  },
  {
   "source": [
    "Mars Facts\n",
    "- Use pandas to scrape the table containing facts about the planet including Diameter, Mass, etc.\n",
    "- Use Pandas to convert the data to a HTML table string."
   ],
   "cell_type": "markdown",
   "metadata": {}
  },
  {
   "cell_type": "code",
   "execution_count": 10,
   "metadata": {},
   "outputs": [
    {
     "output_type": "execute_result",
     "data": {
      "text/plain": [
       "                      0                              1\n",
       "0  Equatorial Diameter:                       6,792 km\n",
       "1       Polar Diameter:                       6,752 km\n",
       "2                 Mass:  6.39 × 10^23 kg (0.11 Earths)\n",
       "3                Moons:            2 (Phobos & Deimos)\n",
       "4       Orbit Distance:       227,943,824 km (1.38 AU)\n",
       "5         Orbit Period:           687 days (1.9 years)\n",
       "6  Surface Temperature:                   -87 to -5 °C\n",
       "7         First Record:              2nd millennium BC\n",
       "8          Recorded By:           Egyptian astronomers"
      ],
      "text/html": "<div>\n<style scoped>\n    .dataframe tbody tr th:only-of-type {\n        vertical-align: middle;\n    }\n\n    .dataframe tbody tr th {\n        vertical-align: top;\n    }\n\n    .dataframe thead th {\n        text-align: right;\n    }\n</style>\n<table border=\"1\" class=\"dataframe\">\n  <thead>\n    <tr style=\"text-align: right;\">\n      <th></th>\n      <th>0</th>\n      <th>1</th>\n    </tr>\n  </thead>\n  <tbody>\n    <tr>\n      <th>0</th>\n      <td>Equatorial Diameter:</td>\n      <td>6,792 km</td>\n    </tr>\n    <tr>\n      <th>1</th>\n      <td>Polar Diameter:</td>\n      <td>6,752 km</td>\n    </tr>\n    <tr>\n      <th>2</th>\n      <td>Mass:</td>\n      <td>6.39 × 10^23 kg (0.11 Earths)</td>\n    </tr>\n    <tr>\n      <th>3</th>\n      <td>Moons:</td>\n      <td>2 (Phobos &amp; Deimos)</td>\n    </tr>\n    <tr>\n      <th>4</th>\n      <td>Orbit Distance:</td>\n      <td>227,943,824 km (1.38 AU)</td>\n    </tr>\n    <tr>\n      <th>5</th>\n      <td>Orbit Period:</td>\n      <td>687 days (1.9 years)</td>\n    </tr>\n    <tr>\n      <th>6</th>\n      <td>Surface Temperature:</td>\n      <td>-87 to -5 °C</td>\n    </tr>\n    <tr>\n      <th>7</th>\n      <td>First Record:</td>\n      <td>2nd millennium BC</td>\n    </tr>\n    <tr>\n      <th>8</th>\n      <td>Recorded By:</td>\n      <td>Egyptian astronomers</td>\n    </tr>\n  </tbody>\n</table>\n</div>"
     },
     "metadata": {},
     "execution_count": 10
    }
   ],
   "source": [
    "# URL\n",
    "url = 'https://space-facts.com/mars/'\n",
    "\n",
    "# Read url(html) with pandas\n",
    "tables = pd.read_html(url)\n",
    "\n",
    "df = tables[0]\n",
    "df"
   ]
  },
  {
   "cell_type": "code",
   "execution_count": 11,
   "metadata": {},
   "outputs": [
    {
     "output_type": "stream",
     "name": "stdout",
     "text": [
      "                      Mars                          \n Equatorial Diameter:                       6,792 km\n      Polar Diameter:                       6,752 km\n                Mass:  6.39 × 10^23 kg (0.11 Earths)\n               Moons:            2 (Phobos & Deimos)\n      Orbit Distance:       227,943,824 km (1.38 AU)\n        Orbit Period:           687 days (1.9 years)\n Surface Temperature:                   -87 to -5 °C\n        First Record:              2nd millennium BC\n         Recorded By:           Egyptian astronomers\n"
     ]
    }
   ],
   "source": [
    "# Rename columns\n",
    "df.columns = ['', 'Mars']\n",
    "df\n",
    "\n",
    "print (df.to_string (justify='left', index=False))"
   ]
  },
  {
   "cell_type": "code",
   "execution_count": 12,
   "metadata": {},
   "outputs": [
    {
     "output_type": "execute_result",
     "data": {
      "text/plain": [
       "                                               Mars\n",
       "                                                   \n",
       "Equatorial Diameter:                       6,792 km\n",
       "Polar Diameter:                            6,752 km\n",
       "Mass:                 6.39 × 10^23 kg (0.11 Earths)\n",
       "Moons:                          2 (Phobos & Deimos)\n",
       "Orbit Distance:            227,943,824 km (1.38 AU)"
      ],
      "text/html": "<div>\n<style scoped>\n    .dataframe tbody tr th:only-of-type {\n        vertical-align: middle;\n    }\n\n    .dataframe tbody tr th {\n        vertical-align: top;\n    }\n\n    .dataframe thead th {\n        text-align: right;\n    }\n</style>\n<table border=\"1\" class=\"dataframe\">\n  <thead>\n    <tr style=\"text-align: right;\">\n      <th></th>\n      <th>Mars</th>\n    </tr>\n    <tr>\n      <th></th>\n      <th></th>\n    </tr>\n  </thead>\n  <tbody>\n    <tr>\n      <th>Equatorial Diameter:</th>\n      <td>6,792 km</td>\n    </tr>\n    <tr>\n      <th>Polar Diameter:</th>\n      <td>6,752 km</td>\n    </tr>\n    <tr>\n      <th>Mass:</th>\n      <td>6.39 × 10^23 kg (0.11 Earths)</td>\n    </tr>\n    <tr>\n      <th>Moons:</th>\n      <td>2 (Phobos &amp; Deimos)</td>\n    </tr>\n    <tr>\n      <th>Orbit Distance:</th>\n      <td>227,943,824 km (1.38 AU)</td>\n    </tr>\n  </tbody>\n</table>\n</div>"
     },
     "metadata": {},
     "execution_count": 12
    }
   ],
   "source": [
    "# Set index to variable column\n",
    "df.set_index('', inplace=True)\n",
    "df.head()"
   ]
  },
  {
   "cell_type": "code",
   "execution_count": 13,
   "metadata": {},
   "outputs": [
    {
     "output_type": "execute_result",
     "data": {
      "text/plain": [
       "'<table border=\"1\" class=\"dataframe\">\\n  <thead>\\n    <tr style=\"text-align: left;\">\\n      <th style=\"text-align: left;\"></th>\\n      <th style=\"text-align: left;\">Mars</th>\\n    </tr>\\n    <tr>\\n      <th style=\"text-align: left;\"></th>\\n      <th style=\"text-align: left;\"></th>\\n    </tr>\\n  </thead>\\n  <tbody>\\n    <tr>\\n      <th style=\"text-align: left;\">Equatorial Diameter:</th>\\n      <td>6,792 km</td>\\n    </tr>\\n    <tr>\\n      <th style=\"text-align: left;\">Polar Diameter:</th>\\n      <td>6,752 km</td>\\n    </tr>\\n    <tr>\\n      <th style=\"text-align: left;\">Mass:</th>\\n      <td>6.39 × 10^23 kg (0.11 Earths)</td>\\n    </tr>\\n    <tr>\\n      <th style=\"text-align: left;\">Moons:</th>\\n      <td>2 (Phobos &amp; Deimos)</td>\\n    </tr>\\n    <tr>\\n      <th style=\"text-align: left;\">Orbit Distance:</th>\\n      <td>227,943,824 km (1.38 AU)</td>\\n    </tr>\\n    <tr>\\n      <th style=\"text-align: left;\">Orbit Period:</th>\\n      <td>687 days (1.9 years)</td>\\n    </tr>\\n    <tr>\\n      <th style=\"text-align: left;\">Surface Temperature:</th>\\n      <td>-87 to -5 °C</td>\\n    </tr>\\n    <tr>\\n      <th style=\"text-align: left;\">First Record:</th>\\n      <td>2nd millennium BC</td>\\n    </tr>\\n    <tr>\\n      <th style=\"text-align: left;\">Recorded By:</th>\\n      <td>Egyptian astronomers</td>\\n    </tr>\\n  </tbody>\\n</table>'"
      ]
     },
     "metadata": {},
     "execution_count": 13
    }
   ],
   "source": [
    "# Convert table to an html string\n",
    "html_table = df.to_html(justify='left')\n",
    "\n",
    "# Text-align the text to the left\n",
    "html_table = html_table.replace('<th>','<th style=\"text-align: left;\">')\n",
    "html_table"
   ]
  },
  {
   "cell_type": "code",
   "execution_count": 14,
   "metadata": {},
   "outputs": [
    {
     "output_type": "execute_result",
     "data": {
      "text/plain": [
       "'<table border=\"1\" class=\"dataframe\">  <thead>    <tr style=\"text-align: left;\">      <th style=\"text-align: left;\"></th>      <th style=\"text-align: left;\">Mars</th>    </tr>    <tr>      <th style=\"text-align: left;\"></th>      <th style=\"text-align: left;\"></th>    </tr>  </thead>  <tbody>    <tr>      <th style=\"text-align: left;\">Equatorial Diameter:</th>      <td>6,792 km</td>    </tr>    <tr>      <th style=\"text-align: left;\">Polar Diameter:</th>      <td>6,752 km</td>    </tr>    <tr>      <th style=\"text-align: left;\">Mass:</th>      <td>6.39 × 10^23 kg (0.11 Earths)</td>    </tr>    <tr>      <th style=\"text-align: left;\">Moons:</th>      <td>2 (Phobos &amp; Deimos)</td>    </tr>    <tr>      <th style=\"text-align: left;\">Orbit Distance:</th>      <td>227,943,824 km (1.38 AU)</td>    </tr>    <tr>      <th style=\"text-align: left;\">Orbit Period:</th>      <td>687 days (1.9 years)</td>    </tr>    <tr>      <th style=\"text-align: left;\">Surface Temperature:</th>      <td>-87 to -5 °C</td>    </tr>    <tr>      <th style=\"text-align: left;\">First Record:</th>      <td>2nd millennium BC</td>    </tr>    <tr>      <th style=\"text-align: left;\">Recorded By:</th>      <td>Egyptian astronomers</td>    </tr>  </tbody></table>'"
      ]
     },
     "metadata": {},
     "execution_count": 14
    }
   ],
   "source": [
    "# Clean up html and remove the \\n\n",
    "html_table = html_table.replace('\\n', '')\n",
    "html_table\n"
   ]
  },
  {
   "source": [
    "Mars Hemispheres\n",
    "- Save the \n",
    "    - image url string for the full resolution hemisphere image\n",
    "    - Hemisphere title containing the hemisphere name \n",
    "    *Image at high resolution is in the link within:\n",
    "     https://astrogeology.usgs.gov/search/results?q=hemisphere+enhanced&k1=target&v1=Mars\n",
    "\n",
    "- Use a Python dictionary to store the data using the keys img_url and title\n",
    "\n",
    "- Append the dictionary with the image url string and the hemisphere title to a list. This list will contain one dictionary for each hemisphere."
   ],
   "cell_type": "markdown",
   "metadata": {}
  },
  {
   "cell_type": "code",
   "execution_count": 15,
   "metadata": {},
   "outputs": [
    {
     "output_type": "stream",
     "name": "stdout",
     "text": [
      "Cerberus Hemisphere Enhanced\n-------------\nSchiaparelli Hemisphere Enhanced\n-------------\nSyrtis Major Hemisphere Enhanced\n-------------\nValles Marineris Hemisphere Enhanced\n-------------\n"
     ]
    }
   ],
   "source": [
    "# Using splinter and retrieving content from url\n",
    "url = 'https://astrogeology.usgs.gov/search/results?q=hemisphere+enhanced&k1=target&v1=Mars'\n",
    "browser.visit(url)\n",
    "\n",
    "time.sleep(1)\n",
    "\n",
    "# Scrape page into Soup\n",
    "html = browser.html\n",
    "soup = bs(html, \"html.parser\")\n",
    "\n",
    "title_list = []\n",
    "\n",
    "results = soup.find_all('div', class_='item')\n",
    "\n",
    "for result in results:\n",
    "    title = result.find('h3').text\n",
    "    title_list.append(title)\n",
    "    print(title)\n",
    "\n",
    "    print(\"-------------\")"
   ]
  },
  {
   "cell_type": "code",
   "execution_count": 16,
   "metadata": {},
   "outputs": [
    {
     "output_type": "stream",
     "name": "stdout",
     "text": [
      "['Cerberus Hemisphere Enhanced', 'Schiaparelli Hemisphere Enhanced', 'Syrtis Major Hemisphere Enhanced', 'Valles Marineris Hemisphere Enhanced']\n"
     ]
    }
   ],
   "source": [
    "print(title_list)"
   ]
  },
  {
   "cell_type": "code",
   "execution_count": 17,
   "metadata": {},
   "outputs": [
    {
     "output_type": "execute_result",
     "data": {
      "text/plain": [
       "'Valles Marineris Hemisphere Enhanced'"
      ]
     },
     "metadata": {},
     "execution_count": 17
    }
   ],
   "source": [
    "#Test just printing 1 element from title_list\n",
    "title_list[3]"
   ]
  },
  {
   "cell_type": "code",
   "execution_count": 18,
   "metadata": {},
   "outputs": [
    {
     "output_type": "stream",
     "name": "stdout",
     "text": [
      "/search/map/Mars/Viking/cerberus_enhanced\n-------------\n/search/map/Mars/Viking/schiaparelli_enhanced\n-------------\n/search/map/Mars/Viking/syrtis_major_enhanced\n-------------\n/search/map/Mars/Viking/valles_marineris_enhanced\n-------------\n"
     ]
    }
   ],
   "source": [
    "# Objective: to attain 4 image links (higher resolution files)\n",
    "# Get the specific url where the 4 image links are at\n",
    "base_url = 'https://astrogeology.usgs.gov/search/results?q=hemisphere+enhanced&k1=target&v1=Mars'\n",
    "browser.visit(base_url)\n",
    "time.sleep(1)\n",
    "\n",
    "# Scrape page into Soup\n",
    "html = browser.html\n",
    "soup = bs(html, \"html.parser\")\n",
    "\n",
    "\n",
    "results = soup.find_all('div', class_='description')\n",
    "\n",
    "rel_url_list = []\n",
    "\n",
    "for result in results:\n",
    "    rel_url  = result.find('a').attrs.get(\"href\")\n",
    "    \n",
    "    rel_url_list.append(rel_url)\n",
    "    print(rel_url)\n",
    "\n",
    "    print(\"-------------\")\n",
    " "
   ]
  },
  {
   "cell_type": "code",
   "execution_count": 19,
   "metadata": {},
   "outputs": [
    {
     "output_type": "stream",
     "name": "stdout",
     "text": [
      "https://astrogeology.usgs.gov/search/map/Mars/Viking/cerberus_enhanced\n",
      "https://astropedia.astrogeology.usgs.gov/download/Mars/Viking/cerberus_enhanced.tif/full.jpg\n",
      "-------------\n",
      "https://astrogeology.usgs.gov/search/map/Mars/Viking/schiaparelli_enhanced\n",
      "https://astropedia.astrogeology.usgs.gov/download/Mars/Viking/schiaparelli_enhanced.tif/full.jpg\n",
      "-------------\n",
      "https://astrogeology.usgs.gov/search/map/Mars/Viking/syrtis_major_enhanced\n",
      "https://astropedia.astrogeology.usgs.gov/download/Mars/Viking/syrtis_major_enhanced.tif/full.jpg\n",
      "-------------\n",
      "https://astrogeology.usgs.gov/search/map/Mars/Viking/valles_marineris_enhanced\n",
      "https://astropedia.astrogeology.usgs.gov/download/Mars/Viking/valles_marineris_enhanced.tif/full.jpg\n",
      "-------------\n"
     ]
    }
   ],
   "source": [
    "# List out the 4 img_urls and store them in the img_url_page_list\n",
    "img_url_page_list = []\n",
    "img_url_list = []\n",
    "for rel_url in rel_url_list:\n",
    "    \n",
    "    img_page_url = \"https://astrogeology.usgs.gov\" + rel_url\n",
    "    img_url_page_list.append(img_page_url)\n",
    "    print(img_page_url)\n",
    "\n",
    "    # In the for loop on each img_page_url, use beautiful soup to extract out the specific img_url into the img_url_list\n",
    " \n",
    "    browser.visit(img_page_url)\n",
    "    time.sleep(1)\n",
    "\n",
    "    # Scrape page into Soup and find the img_url\n",
    "    html = browser.html\n",
    "    soup = bs(html, \"html.parser\")\n",
    "\n",
    "    results = soup.find_all('div', class_='downloads')\n",
    "\n",
    "    for result in results:\n",
    "        img_url  = result.find('a').attrs.get(\"href\")\n",
    "        # img_url_list.append(img_url)\n",
    "        print(img_url)\n",
    "        print(\"-------------\")\n",
    "\n",
    "    img_url_list.append(img_url)\n",
    "#-----------  \n"
   ]
  },
  {
   "cell_type": "code",
   "execution_count": 20,
   "metadata": {},
   "outputs": [
    {
     "output_type": "stream",
     "name": "stdout",
     "text": [
      "['https://astrogeology.usgs.gov/search/map/Mars/Viking/cerberus_enhanced', 'https://astrogeology.usgs.gov/search/map/Mars/Viking/schiaparelli_enhanced', 'https://astrogeology.usgs.gov/search/map/Mars/Viking/syrtis_major_enhanced', 'https://astrogeology.usgs.gov/search/map/Mars/Viking/valles_marineris_enhanced']\n--------------------\n['https://astropedia.astrogeology.usgs.gov/download/Mars/Viking/cerberus_enhanced.tif/full.jpg', 'https://astropedia.astrogeology.usgs.gov/download/Mars/Viking/schiaparelli_enhanced.tif/full.jpg', 'https://astropedia.astrogeology.usgs.gov/download/Mars/Viking/syrtis_major_enhanced.tif/full.jpg', 'https://astropedia.astrogeology.usgs.gov/download/Mars/Viking/valles_marineris_enhanced.tif/full.jpg']\n--------------------\n"
     ]
    }
   ],
   "source": [
    "print(img_url_page_list)\n",
    "print('--------------------')\n",
    "print(img_url_list)\n",
    "print('--------------------')"
   ]
  },
  {
   "cell_type": "code",
   "execution_count": 21,
   "metadata": {},
   "outputs": [
    {
     "output_type": "stream",
     "name": "stdout",
     "text": [
      "[{'title': 'Cerberus Hemisphere Enhanced', 'img_url': 'https://astropedia.astrogeology.usgs.gov/download/Mars/Viking/cerberus_enhanced.tif/full.jpg'}, {'title': 'Schiaparelli Hemisphere Enhanced', 'img_url': 'https://astropedia.astrogeology.usgs.gov/download/Mars/Viking/schiaparelli_enhanced.tif/full.jpg'}, {'title': 'Syrtis Major Hemisphere Enhanced', 'img_url': 'https://astropedia.astrogeology.usgs.gov/download/Mars/Viking/syrtis_major_enhanced.tif/full.jpg'}, {'title': 'Valles Marineris Hemisphere Enhanced', 'img_url': 'https://astropedia.astrogeology.usgs.gov/download/Mars/Viking/valles_marineris_enhanced.tif/full.jpg'}]\n"
     ]
    }
   ],
   "source": [
    "# Define variables invthe hemisphere_image_urls list of dictionaries\n",
    "hemisphere_image_urls = [ \n",
    "{'title':title_list[0], 'img_url': img_url_list[0]}, \n",
    "{'title':title_list[1], 'img_url': img_url_list[1] },\n",
    "{'title':title_list[2], 'img_url': img_url_list[2] },\n",
    "{'title':title_list[3], 'img_url': img_url_list[3] }\n",
    "]\n",
    "\n",
    "print(hemisphere_image_urls)"
   ]
  },
  {
   "cell_type": "code",
   "execution_count": 22,
   "metadata": {},
   "outputs": [],
   "source": [
    "# hemisphere_image_urls\n",
    "# hemisphere_image_urls = [\n",
    "#     {\"title\": \"Valles Marineris Hemisphere\", \"img_url\": \"https://astropedia.astrogeology.usgs.gov/download/Mars/Viking/valles_marineris_enhanced.tif/full.jpg\"},\n",
    "#     {\"title\": \"Cerberus Hemisphere\", \"img_url\": \"https://astropedia.astrogeology.usgs.gov/download/Mars/Viking/cerberus_enhanced.tif/full.jpg\"},\n",
    "#     {\"title\": \"Schiaparelli Hemisphere\", \"img_url\": \"https://astropedia.astrogeology.usgs.gov/download/Mars/Viking/schiaparelli_enhanced.tif/full.jpg\"},\n",
    "#     {\"title\": \"Syrtis Major Hemisphere\", \"img_url\": \"https://astropedia.astrogeology.usgs.gov/download/Mars/Viking/syrtis_major_enhanced.tif/full.jpg\"}\n",
    "# ]"
   ]
  },
  {
   "cell_type": "code",
   "execution_count": 23,
   "metadata": {},
   "outputs": [
    {
     "output_type": "stream",
     "name": "stdout",
     "text": [
      "[{'title': 'Cerberus Hemisphere Enhanced', 'img_url': 'https://astropedia.astrogeology.usgs.gov/download/Mars/Viking/cerberus_enhanced.tif/full.jpg'}, {'title': 'Schiaparelli Hemisphere Enhanced', 'img_url': 'https://astropedia.astrogeology.usgs.gov/download/Mars/Viking/schiaparelli_enhanced.tif/full.jpg'}, {'title': 'Syrtis Major Hemisphere Enhanced', 'img_url': 'https://astropedia.astrogeology.usgs.gov/download/Mars/Viking/syrtis_major_enhanced.tif/full.jpg'}, {'title': 'Valles Marineris Hemisphere Enhanced', 'img_url': 'https://astropedia.astrogeology.usgs.gov/download/Mars/Viking/valles_marineris_enhanced.tif/full.jpg'}]\n"
     ]
    }
   ],
   "source": [
    "# Test: print hemisphere_image_urls for all dictionaries within it.\n",
    "print(hemisphere_image_urls[:])"
   ]
  },
  {
   "cell_type": "code",
   "execution_count": 24,
   "metadata": {},
   "outputs": [
    {
     "output_type": "stream",
     "name": "stdout",
     "text": [
      "https://astropedia.astrogeology.usgs.gov/download/Mars/Viking/cerberus_enhanced.tif/full.jpg\n"
     ]
    }
   ],
   "source": [
    "print(hemisphere_image_urls[0]['img_url'])"
   ]
  },
  {
   "cell_type": "code",
   "execution_count": 25,
   "metadata": {},
   "outputs": [],
   "source": [
    "# Store data in a dictionary\n",
    "mars_data = {\n",
    "    \"news_title\": news_title,\n",
    "    \"news_p\": news_p,\n",
    "    \"featured_image_url\": featured_image_url,\n",
    "    \"html_table\":  html_table,\n",
    "    \"hemisphere_image_urls\": hemisphere_image_urls\n",
    "    }"
   ]
  },
  {
   "cell_type": "code",
   "execution_count": 26,
   "metadata": {},
   "outputs": [
    {
     "output_type": "execute_result",
     "data": {
      "text/plain": [
       "{'news_title': 'Mars Now',\n",
       " 'news_p': 'The first trek of the agency’s largest, most advanced rover yet on the Red Planet marks a major milestone before science operations get under way.',\n",
       " 'featured_image_url': 'https://data-class-jpl-space.s3.amazonaws.com/JPL_Space/image/featured/mars3.jpg',\n",
       " 'html_table': '<table border=\"1\" class=\"dataframe\">  <thead>    <tr style=\"text-align: left;\">      <th style=\"text-align: left;\"></th>      <th style=\"text-align: left;\">Mars</th>    </tr>    <tr>      <th style=\"text-align: left;\"></th>      <th style=\"text-align: left;\"></th>    </tr>  </thead>  <tbody>    <tr>      <th style=\"text-align: left;\">Equatorial Diameter:</th>      <td>6,792 km</td>    </tr>    <tr>      <th style=\"text-align: left;\">Polar Diameter:</th>      <td>6,752 km</td>    </tr>    <tr>      <th style=\"text-align: left;\">Mass:</th>      <td>6.39 × 10^23 kg (0.11 Earths)</td>    </tr>    <tr>      <th style=\"text-align: left;\">Moons:</th>      <td>2 (Phobos &amp; Deimos)</td>    </tr>    <tr>      <th style=\"text-align: left;\">Orbit Distance:</th>      <td>227,943,824 km (1.38 AU)</td>    </tr>    <tr>      <th style=\"text-align: left;\">Orbit Period:</th>      <td>687 days (1.9 years)</td>    </tr>    <tr>      <th style=\"text-align: left;\">Surface Temperature:</th>      <td>-87 to -5 °C</td>    </tr>    <tr>      <th style=\"text-align: left;\">First Record:</th>      <td>2nd millennium BC</td>    </tr>    <tr>      <th style=\"text-align: left;\">Recorded By:</th>      <td>Egyptian astronomers</td>    </tr>  </tbody></table>',\n",
       " 'hemisphere_image_urls': [{'title': 'Cerberus Hemisphere Enhanced',\n",
       "   'img_url': 'https://astropedia.astrogeology.usgs.gov/download/Mars/Viking/cerberus_enhanced.tif/full.jpg'},\n",
       "  {'title': 'Schiaparelli Hemisphere Enhanced',\n",
       "   'img_url': 'https://astropedia.astrogeology.usgs.gov/download/Mars/Viking/schiaparelli_enhanced.tif/full.jpg'},\n",
       "  {'title': 'Syrtis Major Hemisphere Enhanced',\n",
       "   'img_url': 'https://astropedia.astrogeology.usgs.gov/download/Mars/Viking/syrtis_major_enhanced.tif/full.jpg'},\n",
       "  {'title': 'Valles Marineris Hemisphere Enhanced',\n",
       "   'img_url': 'https://astropedia.astrogeology.usgs.gov/download/Mars/Viking/valles_marineris_enhanced.tif/full.jpg'}]}"
      ]
     },
     "metadata": {},
     "execution_count": 26
    }
   ],
   "source": [
    "mars_data"
   ]
  }
 ]
}